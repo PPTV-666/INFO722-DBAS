{
 "cells": [
  {
   "cell_type": "code",
   "execution_count": null,
   "metadata": {},
   "outputs": [],
   "source": [
    "import findspark\n",
    "findspark.init('/home/ubuntu/spark-2.1.1-bin-hadoop2.7')\n",
    "import pyspark\n",
    "from pyspark.sql import SparkSession\n",
    "spark = SparkSession.builder.appName('BDAS').getOrCreate()"
   ]
  },
  {
   "cell_type": "code",
   "execution_count": 2,
   "metadata": {},
   "outputs": [
    {
     "name": "stdout",
     "output_type": "stream",
     "text": [
      "root\n",
      " |-- Rank: integer (nullable = true)\n",
      " |-- Platform: string (nullable = true)\n",
      " |-- Year: integer (nullable = true)\n",
      " |-- Genre: string (nullable = true)\n",
      " |-- Publisher: string (nullable = true)\n",
      " |-- Name: string (nullable = true)\n",
      " |-- NA_Sales: double (nullable = true)\n",
      " |-- EU_Sales: double (nullable = true)\n",
      " |-- JP_Sales: double (nullable = true)\n",
      " |-- Other_Sales: double (nullable = true)\n",
      " |-- Global_Sales: double (nullable = true)\n",
      " |-- Bin_Global_Sales: double (nullable = true)\n",
      "\n"
     ]
    }
   ],
   "source": [
    "Total_Clean_data = spark.read.csv('Total_Clean_data.csv', inferSchema=True, header=True)\n",
    "Total_Clean_data.printSchema()"
   ]
  },
  {
   "cell_type": "code",
   "execution_count": 3,
   "metadata": {},
   "outputs": [
    {
     "name": "stdout",
     "output_type": "stream",
     "text": [
      "+--------------+--------+\n",
      "|TT_GlobalSales|Platform|\n",
      "+--------------+--------+\n",
      "|       1233.46|     PS2|\n",
      "|         969.6|    X360|\n",
      "|        949.27|     PS3|\n",
      "|        909.81|     Wii|\n",
      "|        818.62|      DS|\n",
      "|        727.39|      PS|\n",
      "|        305.62|     GBA|\n",
      "|        291.67|     PSP|\n",
      "|        278.07|     PS4|\n",
      "|         254.7|      PC|\n",
      "+--------------+--------+\n",
      "only showing top 10 rows\n",
      "\n"
     ]
    }
   ],
   "source": [
    "Total_Clean_data.registerTempTable('Total_Clean_data')\n",
    "spark.sql(\"SELECT ROUND(SUM(Global_Sales),2) AS TT_GlobalSales,\\\n",
    "                        Platform FROM Total_Clean_data Group by Platform Order by TT_GlobalSales DESC\").show(10)"
   ]
  },
  {
   "cell_type": "code",
   "execution_count": 10,
   "metadata": {},
   "outputs": [
    {
     "name": "stdout",
     "output_type": "stream",
     "text": [
      "+--------------+------------+\n",
      "|TT_GlobalSales|       Genre|\n",
      "+--------------+------------+\n",
      "|       1722.83|      Action|\n",
      "|       1309.24|      Sports|\n",
      "|        1026.2|     Shooter|\n",
      "|        923.79|Role-Playing|\n",
      "|        829.13|    Platform|\n",
      "|        789.87|        Misc|\n",
      "|        726.76|      Racing|\n",
      "|        444.05|    Fighting|\n",
      "|        389.69|  Simulation|\n",
      "|        242.21|      Puzzle|\n",
      "+--------------+------------+\n",
      "only showing top 10 rows\n",
      "\n"
     ]
    }
   ],
   "source": [
    "Total_Clean_data.registerTempTable('Total_Clean_data')\n",
    "spark.sql(\"SELECT ROUND(SUM(Global_Sales),2) AS TT_GlobalSales,\\\n",
    "                        Genre FROM Total_Clean_data Group by Genre Order by TT_GlobalSales DESC\").show(10)"
   ]
  },
  {
   "cell_type": "code",
   "execution_count": 13,
   "metadata": {
    "scrolled": true
   },
   "outputs": [
    {
     "name": "stdout",
     "output_type": "stream",
     "text": [
      "+--------------+------------------------------+\n",
      "|TT_GlobalSales|Name                          |\n",
      "+--------------+------------------------------+\n",
      "|82.74         |Wii Sports                    |\n",
      "|55.92         |Grand Theft Auto V            |\n",
      "|45.31         |Super Mario Bros.             |\n",
      "|35.84         |Tetris                        |\n",
      "|35.82         |Mario Kart Wii                |\n",
      "|33.0          |Wii Sports Resort             |\n",
      "|31.37         |Pokemon Red/Pokemon Blue      |\n",
      "|30.83         |Call of Duty: Modern Warfare 3|\n",
      "|30.01         |New Super Mario Bros.         |\n",
      "|29.72         |Call of Duty: Black Ops II    |\n",
      "+--------------+------------------------------+\n",
      "only showing top 10 rows\n",
      "\n"
     ]
    }
   ],
   "source": [
    "Total_Clean_data.registerTempTable('Total_Clean_data')\n",
    "spark.sql(\"SELECT ROUND(SUM(Global_Sales),2) AS TT_GlobalSales,\\\n",
    "                        Name FROM Total_Clean_data Group by Name Order by TT_GlobalSales DESC\").show(10,False)"
   ]
  },
  {
   "cell_type": "code",
   "execution_count": 4,
   "metadata": {},
   "outputs": [],
   "source": [
    "Total_Clean_data = Total_Clean_data.toPandas()"
   ]
  },
  {
   "cell_type": "code",
   "execution_count": 6,
   "metadata": {},
   "outputs": [],
   "source": [
    "import seaborn as sns\n",
    "import matplotlib.pyplot as plt\n",
    "import numpy as np"
   ]
  },
  {
   "cell_type": "code",
   "execution_count": 23,
   "metadata": {
    "scrolled": true
   },
   "outputs": [
    {
     "data": {
      "image/png": "[encoded data removed]",
      "text/plain": [
       "<Figure size 1800x720 with 1 Axes>"
      ]
     },
     "metadata": {},
     "output_type": "display_data"
    }
   ],
   "source": [
    "plt.figure(figsize = (25,10))\n",
    "sns.countplot(x=\"Year\",data = Total_Clean_data)\n",
    "plt.show()"
   ]
  },
  {
   "cell_type": "code",
   "execution_count": null,
   "metadata": {},
   "outputs": [],
   "source": [
    "Total_Clean_data = spark.createDataFrame(Total_Clean_data)"
   ]
  },
  {
   "cell_type": "code",
   "execution_count": 6,
   "metadata": {
    "scrolled": true
   },
   "outputs": [
    {
     "name": "stdout",
     "output_type": "stream",
     "text": [
      "+----------+--------+\n",
      "|TT_NASales|Platform|\n",
      "+----------+--------+\n",
      "|    594.33|    X360|\n",
      "|    572.92|     PS2|\n",
      "|    497.37|     Wii|\n",
      "|     388.9|     PS3|\n",
      "|    388.26|      DS|\n",
      "|    334.71|      PS|\n",
      "|    182.06|      XB|\n",
      "|    178.43|     GBA|\n",
      "|    138.91|     N64|\n",
      "|    131.94|      GC|\n",
      "+----------+--------+\n",
      "only showing top 10 rows\n",
      "\n"
     ]
    }
   ],
   "source": [
    "Total_Clean_data.registerTempTable('Total_Clean_data')\n",
    "spark.sql(\"SELECT ROUND(SUM(NA_Sales),2) AS TT_NASales,\\\n",
    "                        Platform FROM Total_Clean_data Group by Platform Order by TT_NASales DESC\").show(10)"
   ]
  },
  {
   "cell_type": "code",
   "execution_count": 7,
   "metadata": {},
   "outputs": [
    {
     "name": "stdout",
     "output_type": "stream",
     "text": [
      "+----------+--------+\n",
      "|TT_EUSales|Platform|\n",
      "+----------+--------+\n",
      "|    340.47|     PS3|\n",
      "|    332.63|     PS2|\n",
      "|     278.0|    X360|\n",
      "|    264.35|     Wii|\n",
      "|    212.38|      PS|\n",
      "|    194.05|      DS|\n",
      "|    137.35|      PC|\n",
      "|     123.7|     PS4|\n",
      "|     72.49|     GBA|\n",
      "|     67.16|     PSP|\n",
      "+----------+--------+\n",
      "only showing top 10 rows\n",
      "\n"
     ]
    }
   ],
   "source": [
    "Total_Clean_data.registerTempTable('Total_Clean_data')\n",
    "spark.sql(\"SELECT ROUND(SUM(EU_Sales),2) AS TT_EUSales,\\\n",
    "                        Platform FROM Total_Clean_data Group by Platform Order by TT_EUSales DESC\").show(10)"
   ]
  },
  {
   "cell_type": "code",
   "execution_count": 8,
   "metadata": {},
   "outputs": [
    {
     "name": "stdout",
     "output_type": "stream",
     "text": [
      "+----------+--------+\n",
      "|TT_JPSales|Platform|\n",
      "+----------+--------+\n",
      "|    175.02|      DS|\n",
      "|    139.78|      PS|\n",
      "|    137.54|     PS2|\n",
      "|    116.55|    SNES|\n",
      "|     98.65|     NES|\n",
      "|      97.3|     3DS|\n",
      "|     85.12|      GB|\n",
      "|     79.13|     PS3|\n",
      "|     75.85|     PSP|\n",
      "|     68.28|     Wii|\n",
      "+----------+--------+\n",
      "only showing top 10 rows\n",
      "\n"
     ]
    }
   ],
   "source": [
    "Total_Clean_data.registerTempTable('Total_Clean_data')\n",
    "spark.sql(\"SELECT ROUND(SUM(JP_Sales),2) AS TT_JPSales,\\\n",
    "                        Platform FROM Total_Clean_data Group by Platform Order by TT_JPSales DESC\").show(10)"
   ]
  },
  {
   "cell_type": "code",
   "execution_count": 14,
   "metadata": {},
   "outputs": [
    {
     "name": "stdout",
     "output_type": "stream",
     "text": [
      "+----------+------------------------------+\n",
      "|TT_NASales|Name                          |\n",
      "+----------+------------------------------+\n",
      "|41.49     |Wii Sports                    |\n",
      "|32.48     |Super Mario Bros.             |\n",
      "|26.93     |Duck Hunt                     |\n",
      "|26.17     |Tetris                        |\n",
      "|23.46     |Grand Theft Auto V            |\n",
      "|17.01     |Call of Duty: Black Ops       |\n",
      "|15.99     |Super Mario World             |\n",
      "|15.85     |Mario Kart Wii                |\n",
      "|15.75     |Wii Sports Resort             |\n",
      "|15.58     |Call of Duty: Modern Warfare 3|\n",
      "+----------+------------------------------+\n",
      "only showing top 10 rows\n",
      "\n"
     ]
    }
   ],
   "source": [
    "Total_Clean_data.registerTempTable('Total_Clean_data')\n",
    "spark.sql(\"SELECT ROUND(SUM(NA_Sales),2) AS TT_NASales,\\\n",
    "                        Name FROM Total_Clean_data Group by Name Order by TT_NASales DESC\").show(10, False)"
   ]
  },
  {
   "cell_type": "code",
   "execution_count": 11,
   "metadata": {},
   "outputs": [
    {
     "name": "stdout",
     "output_type": "stream",
     "text": [
      "+----------+--------------------+\n",
      "|TT_EUSales|                Name|\n",
      "+----------+--------------------+\n",
      "|     29.02|          Wii Sports|\n",
      "|     23.04|  Grand Theft Auto V|\n",
      "|     12.88|      Mario Kart Wii|\n",
      "|      12.4|             FIFA 15|\n",
      "|     11.29|Call of Duty: Mod...|\n",
      "|     11.29|             FIFA 16|\n",
      "|     11.14|             FIFA 14|\n",
      "|     11.05|Call of Duty: Bla...|\n",
      "|     11.01|   Wii Sports Resort|\n",
      "|      11.0|          Nintendogs|\n",
      "+----------+--------------------+\n",
      "only showing top 10 rows\n",
      "\n"
     ]
    }
   ],
   "source": [
    "Total_Clean_data.registerTempTable('Total_Clean_data')\n",
    "spark.sql(\"SELECT ROUND(SUM(EU_Sales),2) AS TT_EUSales,\\\n",
    "                        Name FROM Total_Clean_data Group by Name Order by TT_EUSales DESC\").show(10)"
   ]
  },
  {
   "cell_type": "code",
   "execution_count": 13,
   "metadata": {},
   "outputs": [
    {
     "name": "stdout",
     "output_type": "stream",
     "text": [
      "+----------+----------------------------------+\n",
      "|TT_JPSales|Name                              |\n",
      "+----------+----------------------------------+\n",
      "|10.22     |Pokemon Red/Pokemon Blue          |\n",
      "|7.2       |Pokemon Gold/Pokemon Silver       |\n",
      "|6.96      |Super Mario Bros.                 |\n",
      "|6.5       |New Super Mario Bros.             |\n",
      "|6.04      |Pokemon Diamond/Pokemon Pearl     |\n",
      "|6.03      |Tetris                            |\n",
      "|5.65      |Pokemon Black/Pokemon White       |\n",
      "|5.4       |Dragon Quest VII: Warriors of Eden|\n",
      "|5.38      |Pokemon Ruby/Pokemon Sapphire     |\n",
      "|5.33      |Animal Crossing: Wild World       |\n",
      "+----------+----------------------------------+\n",
      "only showing top 10 rows\n",
      "\n"
     ]
    }
   ],
   "source": [
    "Total_Clean_data.registerTempTable('Total_Clean_data')\n",
    "spark.sql(\"SELECT ROUND(SUM(JP_Sales),2) AS TT_JPSales,\\\n",
    "                        Name FROM Total_Clean_data Group by Name Order by TT_JPSales DESC\").show(10,False)"
   ]
  },
  {
   "cell_type": "code",
   "execution_count": 3,
   "metadata": {},
   "outputs": [
    {
     "name": "stdout",
     "output_type": "stream",
     "text": [
      "+--------------+----------------------------+\n",
      "|TT_GlobalSales|Publisher                   |\n",
      "+--------------+----------------------------+\n",
      "|1784.43       |Nintendo                    |\n",
      "|1093.39       |Electronic Arts             |\n",
      "|721.41        |Activision                  |\n",
      "|607.2         |Sony Computer Entertainment |\n",
      "|473.25        |Ubisoft                     |\n",
      "|399.3         |Take-Two Interactive        |\n",
      "|340.44        |THQ                         |\n",
      "|278.56        |Konami Digital Entertainment|\n",
      "|270.66        |Sega                        |\n",
      "|253.65        |Namco Bandai Games          |\n",
      "+--------------+----------------------------+\n",
      "only showing top 10 rows\n",
      "\n"
     ]
    }
   ],
   "source": [
    "Total_Clean_data.registerTempTable('Total_Clean_data')\n",
    "spark.sql(\"SELECT ROUND(SUM(Global_Sales),2) AS TT_GlobalSales,\\\n",
    "                        Publisher FROM Total_Clean_data Group by Publisher Order by TT_GlobalSales DESC\").show(10,False)"
   ]
  },
  {
   "cell_type": "code",
   "execution_count": 7,
   "metadata": {},
   "outputs": [
    {
     "data": {
      "text/plain": [
       "<matplotlib.axes._subplots.AxesSubplot at 0x7fc96fa28e10>"
      ]
     },
     "execution_count": 7,
     "metadata": {},
     "output_type": "execute_result"
    },
    {
     "data": {
      "image/png": "[encoded data removed]",
      "text/plain": [
       "<Figure size 1440x432 with 1 Axes>"
      ]
     },
     "metadata": {},
     "output_type": "display_data"
    },
    {
     "data": {
      "image/png": "[encoded data removed]",
      "text/plain": [
       "<Figure size 1440x432 with 4 Axes>"
      ]
     },
     "metadata": {},
     "output_type": "display_data"
    }
   ],
   "source": [
    "Total_Clean_data.pivot_table(index='Platform',values = ['NA_Sales','EU_Sales','JP_Sales','Other_Sales']\\\n",
    "                             ,aggfunc='sum').plot.bar(figsize=(20,6))\n",
    "fig,axes = plt.subplots(nrows=2,ncols=2,figsize=(20,6),sharex=True,sharey=True)\n",
    "fig.tight_layout()\n",
    "Total_Clean_data.pivot_table(index='Genre',values=['NA_Sales'],aggfunc='sum').plot.bar(ax=axes[0][0])\n",
    "Total_Clean_data.pivot_table(index='Genre',values=['EU_Sales'],aggfunc='sum').plot.bar(ax=axes[0][1])\n",
    "Total_Clean_data.pivot_table(index='Genre',values=['JP_Sales'],aggfunc='sum').plot.bar(ax=axes[1][0])\n",
    "Total_Clean_data.pivot_table(index='Genre',values=['Other_Sales'],aggfunc='sum').plot.bar(ax=axes[1][1])"
   ]
  },
  {
   "cell_type": "code",
   "execution_count": null,
   "metadata": {},
   "outputs": [],
   "source": []
  },
  {
   "cell_type": "code",
   "execution_count": 1,
   "metadata": {},
   "outputs": [],
   "source": [
    "!git config --global user.name \"PPTV-666\"\n",
    "!git config --global user.email \"zpen689@aucklanduni.ac.nz\""
   ]
  },
  {
   "cell_type": "code",
   "execution_count": null,
   "metadata": {},
   "outputs": [],
   "source": [
    "!ssh-keygen -t rsa -C \"zpen689@aucklanduni.ac.nz\""
   ]
  }
 ],
 "metadata": {
  "kernelspec": {
   "display_name": "Python 3",
   "language": "python",
   "name": "python3"
  },
  "language_info": {
   "codemirror_mode": {
    "name": "ipython",
    "version": 3
   },
   "file_extension": ".py",
   "mimetype": "text/x-python",
   "name": "python",
   "nbconvert_exporter": "python",
   "pygments_lexer": "ipython3",
   "version": "3.5.2"
  }
 },
 "nbformat": 4,
 "nbformat_minor": 2
}
