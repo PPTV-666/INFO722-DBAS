{
 "cells": [
  {
   "cell_type": "code",
   "execution_count": 1,
   "metadata": {},
   "outputs": [],
   "source": [
    "import findspark\n",
    "findspark.init('/home/ubuntu/spark-2.1.1-bin-hadoop2.7')\n",
    "import pyspark\n",
    "from pyspark.sql import SparkSession\n",
    "spark = SparkSession.builder.appName('BDAS').getOrCreate()"
   ]
  },
  {
   "cell_type": "code",
   "execution_count": 2,
   "metadata": {},
   "outputs": [],
   "source": [
    "from pyspark.ml.linalg import Vector\n",
    "from pyspark.ml.feature import VectorAssembler"
   ]
  },
  {
   "cell_type": "code",
   "execution_count": 3,
   "metadata": {},
   "outputs": [
    {
     "name": "stdout",
     "output_type": "stream",
     "text": [
      "root\n",
      " |-- Rank: integer (nullable = true)\n",
      " |-- Platform: string (nullable = true)\n",
      " |-- Year: integer (nullable = true)\n",
      " |-- Genre: string (nullable = true)\n",
      " |-- Publisher: string (nullable = true)\n",
      " |-- Name: string (nullable = true)\n",
      " |-- NA_Sales: double (nullable = true)\n",
      " |-- EU_Sales: double (nullable = true)\n",
      " |-- JP_Sales: double (nullable = true)\n",
      " |-- Other_Sales: double (nullable = true)\n",
      " |-- Global_Sales: double (nullable = true)\n",
      " |-- Bin_Global_Sales: double (nullable = true)\n",
      "\n"
     ]
    }
   ],
   "source": [
    "Total_Clean_data = spark.read.csv('Total_Clean_data.csv', inferSchema=True, header=True)\n",
    "Total_Clean_data.printSchema()"
   ]
  },
  {
   "cell_type": "code",
   "execution_count": 4,
   "metadata": {},
   "outputs": [],
   "source": [
    "Total_Clean_data = Total_Clean_data.toPandas()"
   ]
  },
  {
   "cell_type": "code",
   "execution_count": 5,
   "metadata": {},
   "outputs": [],
   "source": [
    "Total_Clean_data[\"Genre\"] = Total_Clean_data[\"Genre\"].replace(\"Action\",1)\n",
    "Total_Clean_data[\"Genre\"] = Total_Clean_data[\"Genre\"].replace(\"Adventure\",2)\n",
    "Total_Clean_data[\"Genre\"] = Total_Clean_data[\"Genre\"].replace(\"Fighting\",3)\n",
    "Total_Clean_data[\"Genre\"] = Total_Clean_data[\"Genre\"].replace(\"Misc\",4)\n",
    "Total_Clean_data[\"Genre\"] = Total_Clean_data[\"Genre\"].replace(\"Platform\",5)\n",
    "Total_Clean_data[\"Genre\"] = Total_Clean_data[\"Genre\"].replace(\"Puzzle\",6)\n",
    "Total_Clean_data[\"Genre\"] = Total_Clean_data[\"Genre\"].replace(\"Racing\",7)\n",
    "Total_Clean_data[\"Genre\"] = Total_Clean_data[\"Genre\"].replace(\"Role-Playing\",8)\n",
    "Total_Clean_data[\"Genre\"] = Total_Clean_data[\"Genre\"].replace(\"Shooter\",9)\n",
    "Total_Clean_data[\"Genre\"] = Total_Clean_data[\"Genre\"].replace(\"Simulation\",10)\n",
    "Total_Clean_data[\"Genre\"] = Total_Clean_data[\"Genre\"].replace(\"Sports\",11)\n",
    "Total_Clean_data[\"Genre\"] = Total_Clean_data[\"Genre\"].replace(\"Strategy\",12)"
   ]
  },
  {
   "cell_type": "code",
   "execution_count": 6,
   "metadata": {},
   "outputs": [],
   "source": [
    "Total_Clean_data = spark.createDataFrame(Total_Clean_data)"
   ]
  },
  {
   "cell_type": "code",
   "execution_count": 9,
   "metadata": {},
   "outputs": [],
   "source": [
    "vec_JP = VectorAssembler(inputCols=[\"Year\",\"Genre\",'JP_Sales','Rank',\"Global_Sales\"], outputCol='features')"
   ]
  },
  {
   "cell_type": "code",
   "execution_count": 10,
   "metadata": {},
   "outputs": [
    {
     "name": "stdout",
     "output_type": "stream",
     "text": [
      "root\n",
      " |-- Rank: long (nullable = true)\n",
      " |-- Platform: string (nullable = true)\n",
      " |-- Year: long (nullable = true)\n",
      " |-- Genre: long (nullable = true)\n",
      " |-- Publisher: string (nullable = true)\n",
      " |-- Name: string (nullable = true)\n",
      " |-- NA_Sales: double (nullable = true)\n",
      " |-- EU_Sales: double (nullable = true)\n",
      " |-- JP_Sales: double (nullable = true)\n",
      " |-- Other_Sales: double (nullable = true)\n",
      " |-- Global_Sales: double (nullable = true)\n",
      " |-- Bin_Global_Sales: double (nullable = true)\n",
      " |-- features: vector (nullable = true)\n",
      "\n"
     ]
    }
   ],
   "source": [
    "JP_Output = vec_JP.transform(Total_Clean_data)\n",
    "JP_Output.printSchema()"
   ]
  },
  {
   "cell_type": "code",
   "execution_count": 11,
   "metadata": {},
   "outputs": [
    {
     "name": "stdout",
     "output_type": "stream",
     "text": [
      "+--------------------+------------+\n",
      "|            features|Global_Sales|\n",
      "+--------------------+------------+\n",
      "|[2006.0,11.0,3.77...|       82.74|\n",
      "|[1985.0,5.0,6.81,...|       40.24|\n",
      "|[2008.0,7.0,3.79,...|       35.82|\n",
      "|[2009.0,11.0,3.28...|        33.0|\n",
      "|[1996.0,8.0,10.22...|       31.37|\n",
      "|[1989.0,6.0,4.22,...|       30.26|\n",
      "|[2006.0,5.0,6.5,7...|       30.01|\n",
      "|[2006.0,4.0,2.93,...|       29.02|\n",
      "|[2009.0,5.0,4.7,9...|       28.62|\n",
      "|[1984.0,9.0,0.28,...|       28.31|\n",
      "|[2005.0,10.0,1.93...|       24.76|\n",
      "|[2005.0,7.0,4.13,...|       23.42|\n",
      "|[1999.0,8.0,7.2,1...|        23.1|\n",
      "|[2007.0,11.0,3.6,...|       22.72|\n",
      "|[2009.0,11.0,2.53...|        22.0|\n",
      "|[2010.0,4.0,0.24,...|       21.82|\n",
      "|[2013.0,1.0,0.97,...|        21.4|\n",
      "|[2004.0,1.0,0.41,...|       20.81|\n",
      "|[1990.0,5.0,3.54,...|       20.61|\n",
      "|[2005.0,4.0,4.16,...|       20.22|\n",
      "+--------------------+------------+\n",
      "only showing top 20 rows\n",
      "\n"
     ]
    }
   ],
   "source": [
    "JP_df = JP_Output.select(\"features\",\"Global_Sales\")\n",
    "JP_df.show()"
   ]
  },
  {
   "cell_type": "code",
   "execution_count": 13,
   "metadata": {},
   "outputs": [],
   "source": [
    "train_JP,test_JP = JP_df.randomSplit([0.7, 0.3])"
   ]
  },
  {
   "cell_type": "code",
   "execution_count": 10,
   "metadata": {},
   "outputs": [],
   "source": [
    "from pyspark.ml.regression import LinearRegression"
   ]
  },
  {
   "cell_type": "code",
   "execution_count": 15,
   "metadata": {},
   "outputs": [],
   "source": [
    "lr_JP = LinearRegression(labelCol='Global_Sales')\n",
    "lr_model_JP = lr_JP.fit(train_JP)"
   ]
  },
  {
   "cell_type": "code",
   "execution_count": 16,
   "metadata": {},
   "outputs": [],
   "source": [
    "test_JP_Result = lr_model_JP.evaluate(test_JP)"
   ]
  },
  {
   "cell_type": "code",
   "execution_count": 17,
   "metadata": {},
   "outputs": [
    {
     "name": "stdout",
     "output_type": "stream",
     "text": [
      "+--------------------+\n",
      "|           residuals|\n",
      "+--------------------+\n",
      "|-2.22044604925031...|\n",
      "|-1.77635683940025...|\n",
      "|-6.66133814775093...|\n",
      "|-3.33066907387546...|\n",
      "|-2.22044604925031...|\n",
      "|-1.66533453693773...|\n",
      "|-1.38777878078144...|\n",
      "|-1.66533453693773...|\n",
      "|-1.77635683940025...|\n",
      "|-4.44089209850062...|\n",
      "|-4.44089209850062...|\n",
      "|-1.38777878078144...|\n",
      "|-2.22044604925031...|\n",
      "|-2.22044604925031...|\n",
      "|-1.11022302462515...|\n",
      "|-1.11022302462515...|\n",
      "|-1.11022302462515...|\n",
      "|-1.11022302462515...|\n",
      "|-1.66533453693773...|\n",
      "|-1.66533453693773...|\n",
      "+--------------------+\n",
      "only showing top 20 rows\n",
      "\n"
     ]
    }
   ],
   "source": [
    "test_JP_Result.residuals.show()"
   ]
  },
  {
   "cell_type": "code",
   "execution_count": 18,
   "metadata": {},
   "outputs": [
    {
     "name": "stdout",
     "output_type": "stream",
     "text": [
      "+--------------------+------------+-------------------+\n",
      "|            features|Global_Sales|         prediction|\n",
      "+--------------------+------------+-------------------+\n",
      "|[1980.0,4.0,0.0,1...|        1.05| 1.0500000000000003|\n",
      "|[1980.0,9.0,0.0,2...|        4.31|  4.310000000000001|\n",
      "|[1981.0,1.0,0.0,8...|        1.97| 1.9700000000000006|\n",
      "|[1981.0,1.0,0.0,2...|        0.93| 0.9300000000000004|\n",
      "|[1981.0,1.0,0.0,4...|         0.5| 0.5000000000000002|\n",
      "|[1981.0,1.0,0.0,4...|        0.45| 0.4500000000000002|\n",
      "|[1981.0,1.0,0.0,6...|        0.24|0.24000000000000013|\n",
      "|[1981.0,1.0,0.0,7...|        0.22|0.22000000000000017|\n",
      "|[1981.0,5.0,0.0,2...|         4.5|  4.500000000000002|\n",
      "|[1981.0,6.0,0.0,1...|        1.65| 1.6500000000000004|\n",
      "|[1981.0,9.0,0.0,1...|         1.6| 1.6000000000000005|\n",
      "|[1981.0,11.0,0.0,...|        0.21|0.21000000000000013|\n",
      "|[1982.0,1.0,0.0,3...|        0.66| 0.6600000000000003|\n",
      "|[1982.0,1.0,0.0,3...|        0.63| 0.6300000000000002|\n",
      "|[1982.0,1.0,0.0,3...|        0.62| 0.6200000000000001|\n",
      "|[1982.0,1.0,0.0,5...|        0.38| 0.3800000000000001|\n",
      "|[1982.0,1.0,0.0,6...|        0.28|0.28000000000000014|\n",
      "|[1982.0,1.0,0.0,6...|        0.27|0.27000000000000013|\n",
      "|[1982.0,1.0,0.0,6...|        0.25|0.25000000000000017|\n",
      "|[1982.0,1.0,0.0,8...|        0.17|0.17000000000000018|\n",
      "+--------------------+------------+-------------------+\n",
      "only showing top 20 rows\n",
      "\n"
     ]
    }
   ],
   "source": [
    "predictions_lr = lr_model_JP.transform(test_JP)\n",
    "predictions_lr.show()"
   ]
  },
  {
   "cell_type": "code",
   "execution_count": 8,
   "metadata": {},
   "outputs": [],
   "source": [
    "from pyspark.sql import SparkSession\n",
    "from pyspark import SparkConf, SparkContext\n",
    "from pyspark.ml.classification import LogisticRegression\n",
    "from pyspark.ml.feature import StringIndexer, VectorAssembler"
   ]
  },
  {
   "cell_type": "code",
   "execution_count": 19,
   "metadata": {},
   "outputs": [
    {
     "data": {
      "text/plain": [
       "3.5716460670213287e-31"
      ]
     },
     "execution_count": 19,
     "metadata": {},
     "output_type": "execute_result"
    }
   ],
   "source": [
    "test_JP_Result.meanSquaredError"
   ]
  },
  {
   "cell_type": "code",
   "execution_count": 9,
   "metadata": {},
   "outputs": [],
   "source": [
    "import pandas as pd\n",
    "import numpy as np\n",
    "from pyspark.ml.linalg import Vectors\n",
    "from pyspark.ml.evaluation import BinaryClassificationEvaluator,MulticlassClassificationEvaluator\n",
    "from pyspark.ml.pipeline import PipelineModel\n",
    "from pyspark import SparkContext, SparkConf\n",
    "from pyspark.sql import SQLContext,HiveContext,SparkSession,Row\n",
    "from pandas.core.frame import DataFrame"
   ]
  },
  {
   "cell_type": "code",
   "execution_count": 22,
   "metadata": {},
   "outputs": [],
   "source": [
    "precision = MulticlassClassificationEvaluator(labelCol=\"Global_Sales\",\\\n",
    "                                              predictionCol=\"prediction\",\\\n",
    "                                              metricName=\"weightedPrecision\").evaluate(predictions_lr)"
   ]
  },
  {
   "cell_type": "code",
   "execution_count": 23,
   "metadata": {},
   "outputs": [
    {
     "data": {
      "text/plain": [
       "0.7133603238866396"
      ]
     },
     "execution_count": 23,
     "metadata": {},
     "output_type": "execute_result"
    }
   ],
   "source": [
    "precision"
   ]
  },
  {
   "cell_type": "code",
   "execution_count": 54,
   "metadata": {},
   "outputs": [],
   "source": [
    "#######################EU............................."
   ]
  },
  {
   "cell_type": "code",
   "execution_count": 42,
   "metadata": {},
   "outputs": [],
   "source": [
    "vec_EU = VectorAssembler(inputCols=[\"Year\",\"Genre\",'EU_Sales','Rank',\"Global_Sales\"], outputCol='features')"
   ]
  },
  {
   "cell_type": "code",
   "execution_count": 43,
   "metadata": {},
   "outputs": [],
   "source": [
    "output_EU = vec_EU.transform(Total_Clean_data)"
   ]
  },
  {
   "cell_type": "code",
   "execution_count": 44,
   "metadata": {},
   "outputs": [],
   "source": [
    "final_df_EU = output_EU.select(\"features\",\"Global_Sales\")"
   ]
  },
  {
   "cell_type": "code",
   "execution_count": 45,
   "metadata": {},
   "outputs": [],
   "source": [
    "train_EU,test_EU = final_df_EU.randomSplit([0.7, 0.3])"
   ]
  },
  {
   "cell_type": "code",
   "execution_count": 46,
   "metadata": {},
   "outputs": [],
   "source": [
    "lr_EU = LinearRegression(labelCol='Global_Sales')\n",
    "lr_model_EU = lr_EU.fit(train_EU)"
   ]
  },
  {
   "cell_type": "code",
   "execution_count": 47,
   "metadata": {},
   "outputs": [],
   "source": [
    "test_EU_Result = lr_model_EU.evaluate(test_EU)"
   ]
  },
  {
   "cell_type": "code",
   "execution_count": 51,
   "metadata": {},
   "outputs": [
    {
     "name": "stdout",
     "output_type": "stream",
     "text": [
      "+--------------------+\n",
      "|           residuals|\n",
      "+--------------------+\n",
      "|-3.05311331771918...|\n",
      "|-2.22044604925031...|\n",
      "|-2.77555756156289...|\n",
      "|-2.77555756156289...|\n",
      "|-3.33066907387546...|\n",
      "|-3.33066907387546...|\n",
      "|-2.77555756156289...|\n",
      "|-2.77555756156289...|\n",
      "|-2.77555756156289...|\n",
      "|-3.05311331771918...|\n",
      "|-3.05311331771918...|\n",
      "|-2.22044604925031...|\n",
      "|-2.22044604925031...|\n",
      "|-2.22044604925031...|\n",
      "|4.440892098500626...|\n",
      "|-1.11022302462515...|\n",
      "|8.881784197001252...|\n",
      "|-2.22044604925031...|\n",
      "|-2.22044604925031...|\n",
      "|-2.22044604925031...|\n",
      "+--------------------+\n",
      "only showing top 20 rows\n",
      "\n"
     ]
    }
   ],
   "source": [
    "test_EU_Result.residuals.show()"
   ]
  },
  {
   "cell_type": "code",
   "execution_count": 48,
   "metadata": {},
   "outputs": [
    {
     "name": "stdout",
     "output_type": "stream",
     "text": [
      "+--------------------+------------+-------------------+\n",
      "|            features|Global_Sales|         prediction|\n",
      "+--------------------+------------+-------------------+\n",
      "|[1980.0,4.0,0.0,6...|        0.24| 0.2400000000000003|\n",
      "|[1980.0,4.0,0.01,...|        1.05| 1.0500000000000003|\n",
      "|[1981.0,1.0,0.0,4...|        0.45| 0.4500000000000003|\n",
      "|[1981.0,1.0,0.0,4...|        0.43|0.43000000000000027|\n",
      "|[1981.0,1.0,0.0,4...|         0.4|0.40000000000000036|\n",
      "|[1981.0,1.0,0.0,4...|        0.39|0.39000000000000035|\n",
      "|[1981.0,1.0,0.0,5...|        0.36|0.36000000000000026|\n",
      "|[1981.0,1.0,0.0,5...|        0.31| 0.3100000000000003|\n",
      "|[1981.0,1.0,0.0,6...|        0.29|0.29000000000000026|\n",
      "|[1981.0,1.0,0.0,7...|        0.22| 0.2200000000000003|\n",
      "|[1981.0,1.0,0.0,8...|        0.17|0.17000000000000032|\n",
      "|[1981.0,1.0,0.01,...|        0.82| 0.8200000000000002|\n",
      "|[1981.0,1.0,0.01,...|        0.79| 0.7900000000000003|\n",
      "|[1981.0,1.0,0.01,...|        0.59| 0.5900000000000002|\n",
      "|[1981.0,1.0,0.02,...|         2.2| 2.1999999999999997|\n",
      "|[1981.0,5.0,0.01,...|        0.97| 0.9700000000000001|\n",
      "|[1981.0,5.0,0.05,...|         4.5|  4.499999999999999|\n",
      "|[1981.0,9.0,0.01,...|        1.05| 1.0500000000000003|\n",
      "|[1981.0,9.0,0.01,...|        0.73| 0.7300000000000002|\n",
      "|[1981.0,9.0,0.02,...|         1.6| 1.6000000000000003|\n",
      "+--------------------+------------+-------------------+\n",
      "only showing top 20 rows\n",
      "\n"
     ]
    }
   ],
   "source": [
    "predictions_lr_EU = lr_model_EU.transform(test_EU)\n",
    "predictions_lr_EU.show()"
   ]
  },
  {
   "cell_type": "code",
   "execution_count": 49,
   "metadata": {},
   "outputs": [],
   "source": [
    "precision_EU = MulticlassClassificationEvaluator(labelCol=\"Global_Sales\",\\\n",
    "                                              predictionCol=\"prediction\",\\\n",
    "                                              metricName=\"weightedPrecision\").evaluate(predictions_lr_EU)"
   ]
  },
  {
   "cell_type": "code",
   "execution_count": 50,
   "metadata": {},
   "outputs": [
    {
     "data": {
      "text/plain": [
       "0.7651780201687592"
      ]
     },
     "execution_count": 50,
     "metadata": {},
     "output_type": "execute_result"
    }
   ],
   "source": [
    "precision_EU"
   ]
  },
  {
   "cell_type": "code",
   "execution_count": 94,
   "metadata": {},
   "outputs": [],
   "source": [
    "########################NA...................................."
   ]
  },
  {
   "cell_type": "code",
   "execution_count": 39,
   "metadata": {},
   "outputs": [
    {
     "name": "stdout",
     "output_type": "stream",
     "text": [
      "+--------------------+------------+-------------------+\n",
      "|            features|Global_Sales|         prediction|\n",
      "+--------------------+------------+-------------------+\n",
      "|[1980.0,4.0,0.07,...|        1.15| 1.1499999999999997|\n",
      "|[1980.0,9.0,0.17,...|        2.76|  2.759999999999999|\n",
      "|[1980.0,11.0,0.03...|        0.49|               0.49|\n",
      "|[1981.0,1.0,0.01,...|        0.24|0.24000000000000005|\n",
      "|[1981.0,1.0,0.01,...|        0.22|0.22000000000000006|\n",
      "|[1981.0,1.0,0.02,...|        0.39|0.39000000000000007|\n",
      "|[1981.0,1.0,0.02,...|        0.37|0.37000000000000005|\n",
      "|[1981.0,1.0,0.02,...|        0.36|0.36000000000000004|\n",
      "|[1981.0,1.0,0.02,...|        0.29|0.29000000000000004|\n",
      "|[1981.0,1.0,0.03,...|        0.67|               0.67|\n",
      "|[1981.0,1.0,0.03,...|        0.59|               0.59|\n",
      "|[1981.0,1.0,0.03,...|         0.5|                0.5|\n",
      "|[1981.0,1.0,0.04,...|        0.79|               0.79|\n",
      "|[1981.0,1.0,0.04,...|        0.69|               0.69|\n",
      "|[1981.0,1.0,0.05,...|        0.82|               0.82|\n",
      "|[1981.0,9.0,0.01,...|        0.24|0.24000000000000005|\n",
      "|[1981.0,9.0,0.12,...|        2.13|  2.129999999999999|\n",
      "|[1981.0,11.0,0.01...|        0.26|               0.26|\n",
      "|[1982.0,1.0,0.01,...|        0.14|0.14000000000000007|\n",
      "|[1982.0,1.0,0.02,...|         0.4| 0.4000000000000001|\n",
      "+--------------------+------------+-------------------+\n",
      "only showing top 20 rows\n",
      "\n"
     ]
    }
   ],
   "source": [
    "vec_NA = VectorAssembler(inputCols=[\"Year\",\"Genre\",'NA_Sales','Rank',\"Global_Sales\"], outputCol='features')\n",
    "output_NA = vec_NA.transform(Total_Clean_data)\n",
    "final_df_NA = output_NA.select(\"features\",\"Global_Sales\")\n",
    "train_NA,test_NA = final_df_NA.randomSplit([0.7, 0.3])\n",
    "lr_NA = LinearRegression(labelCol='Global_Sales')\n",
    "lr_model_NA = lr_NA.fit(train_NA)"
   ]
  },
  {
   "cell_type": "code",
   "execution_count": 55,
   "metadata": {},
   "outputs": [
    {
     "name": "stdout",
     "output_type": "stream",
     "text": [
      "+--------------------+\n",
      "|           residuals|\n",
      "+--------------------+\n",
      "|-5.55111512312578...|\n",
      "|2.220446049250313...|\n",
      "|                 0.0|\n",
      "|                 0.0|\n",
      "|-5.55111512312578...|\n",
      "|-5.55111512312578...|\n",
      "|-5.55111512312578...|\n",
      "|                 0.0|\n",
      "|                 0.0|\n",
      "|-2.77555756156289...|\n",
      "|-5.55111512312578...|\n",
      "|                 0.0|\n",
      "|                 0.0|\n",
      "|                 0.0|\n",
      "|8.881784197001252...|\n",
      "|1.110223024625156...|\n",
      "|8.881784197001252...|\n",
      "|2.220446049250313...|\n",
      "|                 0.0|\n",
      "|2.220446049250313...|\n",
      "+--------------------+\n",
      "only showing top 20 rows\n",
      "\n"
     ]
    }
   ],
   "source": [
    "test_NA_Result = lr_model_NA.evaluate(test_NA)\n",
    "test_NA_Result.residuals.show()"
   ]
  },
  {
   "cell_type": "code",
   "execution_count": 52,
   "metadata": {},
   "outputs": [
    {
     "name": "stdout",
     "output_type": "stream",
     "text": [
      "+--------------------+------------+-------------------+\n",
      "|            features|Global_Sales|         prediction|\n",
      "+--------------------+------------+-------------------+\n",
      "|[1980.0,4.0,0.07,...|        1.15| 1.1499999999999997|\n",
      "|[1980.0,9.0,0.17,...|        2.76|  2.759999999999999|\n",
      "|[1980.0,11.0,0.03...|        0.49|               0.49|\n",
      "|[1981.0,1.0,0.01,...|        0.24|0.24000000000000005|\n",
      "|[1981.0,1.0,0.01,...|        0.22|0.22000000000000006|\n",
      "|[1981.0,1.0,0.02,...|        0.39|0.39000000000000007|\n",
      "|[1981.0,1.0,0.02,...|        0.37|0.37000000000000005|\n",
      "|[1981.0,1.0,0.02,...|        0.36|0.36000000000000004|\n",
      "|[1981.0,1.0,0.02,...|        0.29|0.29000000000000004|\n",
      "|[1981.0,1.0,0.03,...|        0.67|               0.67|\n",
      "|[1981.0,1.0,0.03,...|        0.59|               0.59|\n",
      "|[1981.0,1.0,0.03,...|         0.5|                0.5|\n",
      "|[1981.0,1.0,0.04,...|        0.79|               0.79|\n",
      "|[1981.0,1.0,0.04,...|        0.69|               0.69|\n",
      "|[1981.0,1.0,0.05,...|        0.82|               0.82|\n",
      "|[1981.0,9.0,0.01,...|        0.24|0.24000000000000005|\n",
      "|[1981.0,9.0,0.12,...|        2.13|  2.129999999999999|\n",
      "|[1981.0,11.0,0.01...|        0.26|               0.26|\n",
      "|[1982.0,1.0,0.01,...|        0.14|0.14000000000000007|\n",
      "|[1982.0,1.0,0.02,...|         0.4| 0.4000000000000001|\n",
      "+--------------------+------------+-------------------+\n",
      "only showing top 20 rows\n",
      "\n"
     ]
    }
   ],
   "source": [
    "predictions_lr_NA = lr_model_NA.transform(test_NA)\n",
    "predictions_lr_NA.show()"
   ]
  },
  {
   "cell_type": "code",
   "execution_count": 40,
   "metadata": {},
   "outputs": [],
   "source": [
    "precision_NA = MulticlassClassificationEvaluator(labelCol=\"Global_Sales\",\\\n",
    "                                              predictionCol=\"prediction\",\\\n",
    "                                              metricName=\"weightedPrecision\").evaluate(predictions_lr_NA)"
   ]
  },
  {
   "cell_type": "code",
   "execution_count": null,
   "metadata": {},
   "outputs": [],
   "source": []
  },
  {
   "cell_type": "code",
   "execution_count": 11,
   "metadata": {},
   "outputs": [],
   "source": [
    "vec_NA = VectorAssembler(inputCols=[\"Year\",\"Genre\",'NA_Sales','Rank',\"Global_Sales\"], outputCol='features')\n",
    "output_NA = vec_NA.transform(Total_Clean_data)\n",
    "final_df_NA = output_NA.select(\"features\",\"Global_Sales\")\n",
    "train_NA,test_NA = final_df_NA.randomSplit([0.7, 0.3])\n",
    "lr_NA = LinearRegression(labelCol='Global_Sales')\n",
    "lr_model_NA = lr_NA.fit(train_NA)"
   ]
  },
  {
   "cell_type": "code",
   "execution_count": 12,
   "metadata": {},
   "outputs": [
    {
     "name": "stdout",
     "output_type": "stream",
     "text": [
      "+--------------------+\n",
      "|           residuals|\n",
      "+--------------------+\n",
      "|-5.55111512312578...|\n",
      "|                 0.0|\n",
      "|-5.55111512312578...|\n",
      "|-5.55111512312578...|\n",
      "|-5.55111512312578...|\n",
      "|-2.22044604925031...|\n",
      "|2.775557561562891...|\n",
      "|                 0.0|\n",
      "|2.775557561562891...|\n",
      "|                 0.0|\n",
      "|-5.55111512312578...|\n",
      "|                 0.0|\n",
      "|                 0.0|\n",
      "|-1.11022302462515...|\n",
      "|-1.11022302462515...|\n",
      "|-2.22044604925031...|\n",
      "|-2.22044604925031...|\n",
      "|                 0.0|\n",
      "|-2.22044604925031...|\n",
      "|4.440892098500626...|\n",
      "+--------------------+\n",
      "only showing top 20 rows\n",
      "\n"
     ]
    }
   ],
   "source": [
    "test_NA_Result = lr_model_NA.evaluate(test_NA)\n",
    "test_NA_Result.residuals.show()"
   ]
  },
  {
   "cell_type": "code",
   "execution_count": 33,
   "metadata": {},
   "outputs": [
    {
     "name": "stdout",
     "output_type": "stream",
     "text": [
      "+--------------------+------------+-------------------+\n",
      "|            features|Global_Sales|         prediction|\n",
      "+--------------------+------------+-------------------+\n",
      "|[1980.0,1.0,0.32,...|        0.34| 0.3400000000000001|\n",
      "|[1980.0,4.0,0.25,...|        0.27|               0.27|\n",
      "|[1981.0,1.0,0.3,5...|        0.33|0.33000000000000007|\n",
      "|[1981.0,1.0,0.32,...|        0.34| 0.3400000000000001|\n",
      "|[1981.0,1.0,0.35,...|        0.37|0.37000000000000005|\n",
      "|[1981.0,9.0,1.49,...|         1.6| 1.6000000000000003|\n",
      "|[1981.0,11.0,0.12...|        0.13|0.12999999999999998|\n",
      "|[1981.0,11.0,0.18...|        0.19|               0.19|\n",
      "|[1982.0,1.0,0.13,...|        0.14|0.13999999999999999|\n",
      "|[1982.0,1.0,0.14,...|        0.15|               0.15|\n",
      "|[1982.0,1.0,0.29,...|        0.31|0.31000000000000005|\n",
      "|[1982.0,1.0,0.35,...|        0.38|               0.38|\n",
      "|[1982.0,1.0,0.46,...|         0.5|                0.5|\n",
      "|[1982.0,1.0,0.58,...|        0.63| 0.6300000000000001|\n",
      "|[1982.0,5.0,0.67,...|        0.72| 0.7200000000000001|\n",
      "|[1982.0,5.0,1.03,...|         1.1| 1.1000000000000003|\n",
      "|[1982.0,6.0,1.52,...|        1.64| 1.6400000000000001|\n",
      "|[1982.0,7.0,0.37,...|        0.39|               0.39|\n",
      "|[1982.0,7.0,1.1,1...|        1.18| 1.1800000000000002|\n",
      "|[1983.0,11.0,0.73...|         3.2| 3.1999999999999997|\n",
      "+--------------------+------------+-------------------+\n",
      "only showing top 20 rows\n",
      "\n"
     ]
    }
   ],
   "source": [
    "predictions_lr_NA = lr_model_NA.transform(test_NA)\n",
    "predictions_lr_NA.show()"
   ]
  },
  {
   "cell_type": "code",
   "execution_count": 31,
   "metadata": {},
   "outputs": [],
   "source": [
    "import matplotlib.pylab as plt"
   ]
  },
  {
   "cell_type": "code",
   "execution_count": 35,
   "metadata": {},
   "outputs": [
    {
     "data": {
      "text/plain": [
       "<function matplotlib.pyplot.show(*args, **kw)>"
      ]
     },
     "execution_count": 35,
     "metadata": {},
     "output_type": "execute_result"
    },
    {
     "data": {
      "image/png": "[encoded data removed]",
      "text/plain": [
       "<Figure size 432x288 with 1 Axes>"
      ]
     },
     "metadata": {},
     "output_type": "display_data"
    }
   ],
   "source": [
    "plt.scatter(x = predictions_lr_NA.toPandas()[\"prediction\"], y =  predictions_lr_NA.toPandas()[\"Global_Sales\"])\n",
    "plt.title(\"Make predictions of Ridge Regression\")\n",
    "plt.xlabel(\"Predicted Global_Sales\")\n",
    "plt.ylabel(\"Actual Global_Sales\")\n",
    "plt.show"
   ]
  },
  {
   "cell_type": "code",
   "execution_count": null,
   "metadata": {},
   "outputs": [],
   "source": []
  },
  {
   "cell_type": "code",
   "execution_count": null,
   "metadata": {},
   "outputs": [],
   "source": []
  },
  {
   "cell_type": "code",
   "execution_count": null,
   "metadata": {},
   "outputs": [],
   "source": []
  },
  {
   "cell_type": "code",
   "execution_count": null,
   "metadata": {},
   "outputs": [],
   "source": []
  },
  {
   "cell_type": "code",
   "execution_count": null,
   "metadata": {},
   "outputs": [],
   "source": []
  }
 ],
 "metadata": {
  "kernelspec": {
   "display_name": "Python 3",
   "language": "python",
   "name": "python3"
  },
  "language_info": {
   "codemirror_mode": {
    "name": "ipython",
    "version": 3
   },
   "file_extension": ".py",
   "mimetype": "text/x-python",
   "name": "python",
   "nbconvert_exporter": "python",
   "pygments_lexer": "ipython3",
   "version": "3.5.2"
  }
 },
 "nbformat": 4,
 "nbformat_minor": 2
}
