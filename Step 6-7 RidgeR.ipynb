{
 "cells": [
  {
   "cell_type": "code",
   "execution_count": 1,
   "metadata": {},
   "outputs": [],
   "source": [
    "import findspark\n",
    "findspark.init('/home/ubuntu/spark-2.1.1-bin-hadoop2.7')\n",
    "import pyspark\n",
    "from pyspark.sql import SparkSession\n",
    "spark = SparkSession.builder.appName('BDAS').getOrCreate()"
   ]
  },
  {
   "cell_type": "code",
   "execution_count": 2,
   "metadata": {},
   "outputs": [
    {
     "name": "stdout",
     "output_type": "stream",
     "text": [
      "root\n",
      " |-- Rank: integer (nullable = true)\n",
      " |-- Platform: string (nullable = true)\n",
      " |-- Year: integer (nullable = true)\n",
      " |-- Genre: string (nullable = true)\n",
      " |-- Publisher: string (nullable = true)\n",
      " |-- Name: string (nullable = true)\n",
      " |-- NA_Sales: double (nullable = true)\n",
      " |-- EU_Sales: double (nullable = true)\n",
      " |-- JP_Sales: double (nullable = true)\n",
      " |-- Other_Sales: double (nullable = true)\n",
      " |-- Global_Sales: double (nullable = true)\n",
      " |-- Bin_Global_Sales: double (nullable = true)\n",
      "\n"
     ]
    }
   ],
   "source": [
    "Total_Clean_data = spark.read.csv('Total_Clean_data.csv', inferSchema=True, header=True)\n",
    "Total_Clean_data.printSchema()"
   ]
  },
  {
   "cell_type": "code",
   "execution_count": 3,
   "metadata": {},
   "outputs": [],
   "source": [
    "from pyspark import SparkConf, SparkContext\n",
    "from pyspark.sql import SparkSession\n",
    "from pyspark.ml.linalg import Vector,Vectors\n",
    "from pyspark.ml.evaluation import MulticlassClassificationEvaluator\n",
    "from pyspark.ml.feature import IndexToString, StringIndexer, VectorIndexer, VectorAssembler\n",
    "from pyspark.ml.regression import LinearRegression"
   ]
  },
  {
   "cell_type": "code",
   "execution_count": 4,
   "metadata": {},
   "outputs": [],
   "source": [
    "Total_Clean_data = Total_Clean_data.toPandas()"
   ]
  },
  {
   "cell_type": "code",
   "execution_count": 5,
   "metadata": {},
   "outputs": [],
   "source": [
    "Total_Clean_data[\"Genre\"] = Total_Clean_data[\"Genre\"].replace(\"Action\",1)\n",
    "Total_Clean_data[\"Genre\"] = Total_Clean_data[\"Genre\"].replace(\"Adventure\",2)\n",
    "Total_Clean_data[\"Genre\"] = Total_Clean_data[\"Genre\"].replace(\"Fighting\",3)\n",
    "Total_Clean_data[\"Genre\"] = Total_Clean_data[\"Genre\"].replace(\"Misc\",4)\n",
    "Total_Clean_data[\"Genre\"] = Total_Clean_data[\"Genre\"].replace(\"Platform\",5)\n",
    "Total_Clean_data[\"Genre\"] = Total_Clean_data[\"Genre\"].replace(\"Puzzle\",6)\n",
    "Total_Clean_data[\"Genre\"] = Total_Clean_data[\"Genre\"].replace(\"Racing\",7)\n",
    "Total_Clean_data[\"Genre\"] = Total_Clean_data[\"Genre\"].replace(\"Role-Playing\",8)\n",
    "Total_Clean_data[\"Genre\"] = Total_Clean_data[\"Genre\"].replace(\"Shooter\",9)\n",
    "Total_Clean_data[\"Genre\"] = Total_Clean_data[\"Genre\"].replace(\"Simulation\",10)\n",
    "Total_Clean_data[\"Genre\"] = Total_Clean_data[\"Genre\"].replace(\"Sports\",11)\n",
    "Total_Clean_data[\"Genre\"] = Total_Clean_data[\"Genre\"].replace(\"Strategy\",12)"
   ]
  },
  {
   "cell_type": "code",
   "execution_count": 6,
   "metadata": {},
   "outputs": [],
   "source": [
    "Total_Clean_data = spark.createDataFrame(Total_Clean_data)"
   ]
  },
  {
   "cell_type": "code",
   "execution_count": 7,
   "metadata": {},
   "outputs": [],
   "source": [
    "vec = VectorAssembler(inputCols=[\"Year\",\"Genre\",'JP_Sales',\\\n",
    "                                    \"NA_Sales\",'Rank',\"Other_Sales\",\\\n",
    "                                    \"EU_Sales\",\"Global_Sales\",\"Bin_Global_Sales\"], outputCol='features')"
   ]
  },
  {
   "cell_type": "code",
   "execution_count": 8,
   "metadata": {},
   "outputs": [],
   "source": [
    "data = vec.transform(Total_Clean_data)"
   ]
  },
  {
   "cell_type": "code",
   "execution_count": 9,
   "metadata": {},
   "outputs": [],
   "source": [
    "Final_data = data.select(\"features\",\"Global_Sales\")"
   ]
  },
  {
   "cell_type": "code",
   "execution_count": 10,
   "metadata": {},
   "outputs": [],
   "source": [
    "train_data,test_data = Final_data.randomSplit([0.7, 0.3])"
   ]
  },
  {
   "cell_type": "code",
   "execution_count": 11,
   "metadata": {},
   "outputs": [
    {
     "name": "stdout",
     "output_type": "stream",
     "text": [
      "+-------+------------------+\n",
      "|summary|      Global_Sales|\n",
      "+-------+------------------+\n",
      "|  count|             11394|\n",
      "|   mean|0.5412234509391113|\n",
      "| stddev|1.6007298636232898|\n",
      "|    min|              0.01|\n",
      "|    max|             82.74|\n",
      "+-------+------------------+\n",
      "\n"
     ]
    }
   ],
   "source": [
    "train_data.describe().show()"
   ]
  },
  {
   "cell_type": "code",
   "execution_count": 12,
   "metadata": {},
   "outputs": [
    {
     "name": "stdout",
     "output_type": "stream",
     "text": [
      "+-------+------------------+\n",
      "|summary|      Global_Sales|\n",
      "+-------+------------------+\n",
      "|  count|              4891|\n",
      "|   mean|0.5407503578000401|\n",
      "| stddev|1.4877453293035028|\n",
      "|    min|              0.01|\n",
      "|    max|             40.24|\n",
      "+-------+------------------+\n",
      "\n"
     ]
    }
   ],
   "source": [
    "test_data.describe().show()"
   ]
  },
  {
   "cell_type": "code",
   "execution_count": 13,
   "metadata": {},
   "outputs": [],
   "source": [
    "lr_ridge = LinearRegression(maxIter = 10,regParam = 0.3, elasticNetParam = 0, labelCol='Global_Sales')"
   ]
  },
  {
   "cell_type": "code",
   "execution_count": 14,
   "metadata": {},
   "outputs": [],
   "source": [
    "lr_ridge = LinearRegression(maxIter = 10,regParam = 0.3, elasticNetParam = 0, labelCol='Global_Sales')\n",
    "lr_model_ridge = lr_ridge.fit(train_data)"
   ]
  },
  {
   "cell_type": "code",
   "execution_count": 15,
   "metadata": {},
   "outputs": [
    {
     "name": "stdout",
     "output_type": "stream",
     "text": [
      "Coefficients:[-0.001005430671698727,2.2358030576843993e-05,0.6124934111011541,0.4925850247722201,-1.704917770264037e-05,0.8637476567844935,0.5893742877277263,0.23590004598074368,0.8665522022487157], Intercept:2.2455813900638626\n"
     ]
    }
   ],
   "source": [
    "print(\"Coefficients:{}, Intercept:{}\".format(lr_model_ridge.coefficients,lr_model_ridge.intercept))"
   ]
  },
  {
   "cell_type": "code",
   "execution_count": 16,
   "metadata": {},
   "outputs": [
    {
     "name": "stdout",
     "output_type": "stream",
     "text": [
      "+--------------------+\n",
      "|           residuals|\n",
      "+--------------------+\n",
      "|-0.00787408186648...|\n",
      "|-0.07314447672518429|\n",
      "|-0.06763029436007129|\n",
      "|-0.06635987272623073|\n",
      "|-0.06787561646012541|\n",
      "|-0.06024733605988486|\n",
      "|-0.06617908779206283|\n",
      "|-0.06557803653471994|\n",
      "|-0.05705886885619166|\n",
      "|0.003175394510659...|\n",
      "| 0.27773333948253565|\n",
      "|  0.3369974874784556|\n",
      "|  0.0423797087400446|\n",
      "|  0.9301864099687931|\n",
      "|-0.04232642348769...|\n",
      "|-0.06654751945469073|\n",
      "| 0.18395694903169058|\n",
      "|  0.3183581518730325|\n",
      "|-0.05782407895049413|\n",
      "|-0.07231533805113963|\n",
      "+--------------------+\n",
      "only showing top 20 rows\n",
      "\n"
     ]
    }
   ],
   "source": [
    "RR_Result = lr_model_ridge.evaluate(test_data) \n",
    "RR_Result.residuals.show()"
   ]
  },
  {
   "cell_type": "code",
   "execution_count": 17,
   "metadata": {
    "scrolled": true
   },
   "outputs": [
    {
     "name": "stdout",
     "output_type": "stream",
     "text": [
      "+--------------------+------------+-------------------+\n",
      "|            features|Global_Sales|         prediction|\n",
      "+--------------------+------------+-------------------+\n",
      "|[1980.0,3.0,0.0,0...|        0.77| 0.7778740818664862|\n",
      "|[1981.0,1.0,0.0,0...|        0.22| 0.2931444767251843|\n",
      "|[1981.0,1.0,0.0,0...|        0.24| 0.3076302943600713|\n",
      "|[1981.0,1.0,0.0,0...|        0.33|0.39635987272623074|\n",
      "|[1981.0,1.0,0.0,0...|        0.37| 0.4378756164601254|\n",
      "|[1981.0,1.0,0.0,0...|        0.39| 0.4502473360598849|\n",
      "|[1981.0,1.0,0.0,0...|        0.39|0.45617908779206284|\n",
      "|[1981.0,1.0,0.0,0...|         0.4|0.46557803653471996|\n",
      "|[1981.0,1.0,0.0,0...|        0.43|0.48705886885619165|\n",
      "|[1981.0,1.0,0.0,0...|        0.82| 0.8168246054893409|\n",
      "|[1981.0,1.0,0.0,1...|        1.97| 1.6922666605174643|\n",
      "|[1981.0,1.0,0.0,2...|         2.2| 1.8630025125215446|\n",
      "|[1981.0,5.0,0.0,0...|        0.97| 0.9276202912599554|\n",
      "|[1981.0,5.0,0.0,4...|         4.5|  3.569813590031207|\n",
      "|[1981.0,6.0,0.0,0...|        0.59| 0.6323264234876915|\n",
      "|[1981.0,9.0,0.0,0...|        0.24| 0.3065475194546907|\n",
      "|[1981.0,9.0,0.0,1...|         1.6| 1.4160430509683095|\n",
      "|[1981.0,9.0,0.0,1...|        2.13| 1.8116418481269674|\n",
      "|[1981.0,11.0,0.0,...|        0.13|0.18782407895049413|\n",
      "|[1981.0,11.0,0.0,...|        0.21| 0.2823153380511396|\n",
      "+--------------------+------------+-------------------+\n",
      "only showing top 20 rows\n",
      "\n"
     ]
    }
   ],
   "source": [
    "predictions_lr_ridge = lr_model_ridge.transform(test_data)\n",
    "predictions_lr_ridge.show()"
   ]
  },
  {
   "cell_type": "code",
   "execution_count": 18,
   "metadata": {},
   "outputs": [
    {
     "data": {
      "text/plain": [
       "0.9943764656498093"
      ]
     },
     "execution_count": 18,
     "metadata": {},
     "output_type": "execute_result"
    }
   ],
   "source": [
    "test_p = lr_model_ridge.evaluate(test_data)\n",
    "test_p.r2"
   ]
  },
  {
   "cell_type": "code",
   "execution_count": 30,
   "metadata": {},
   "outputs": [],
   "source": [
    "import matplotlib.pylab as plt"
   ]
  },
  {
   "cell_type": "code",
   "execution_count": 29,
   "metadata": {},
   "outputs": [
    {
     "data": {
      "text/plain": [
       "<function matplotlib.pyplot.show(*args, **kw)>"
      ]
     },
     "execution_count": 29,
     "metadata": {},
     "output_type": "execute_result"
    },
    {
     "data": {
      "image/png": "[encoded data removed]",
      "text/plain": [
       "<Figure size 432x288 with 1 Axes>"
      ]
     },
     "metadata": {},
     "output_type": "display_data"
    }
   ],
   "source": [
    "plt.scatter(x = predictions_lr_ridge.toPandas()[\"prediction\"], y =  predictions_lr_ridge.toPandas()[\"Global_Sales\"])\n",
    "plt.title(\"Make predictions of Ridge Regression\")\n",
    "plt.xlabel(\"Predicted Global_Sales\")\n",
    "plt.ylabel(\"Actual Global_Sales\")\n",
    "plt.show"
   ]
  }
 ],
 "metadata": {
  "kernelspec": {
   "display_name": "Python 3",
   "language": "python",
   "name": "python3"
  },
  "language_info": {
   "codemirror_mode": {
    "name": "ipython",
    "version": 3
   },
   "file_extension": ".py",
   "mimetype": "text/x-python",
   "name": "python",
   "nbconvert_exporter": "python",
   "pygments_lexer": "ipython3",
   "version": "3.5.2"
  }
 },
 "nbformat": 4,
 "nbformat_minor": 2
}
