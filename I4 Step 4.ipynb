{
 "cells": [
  {
   "cell_type": "code",
   "execution_count": 1,
   "metadata": {},
   "outputs": [],
   "source": [
    "import findspark\n",
    "findspark.init('/home/ubuntu/spark-2.1.1-bin-hadoop2.7')\n",
    "import pyspark\n",
    "from pyspark.sql import SparkSession\n",
    "spark = SparkSession.builder.appName('BDAS').getOrCreate()"
   ]
  },
  {
   "cell_type": "code",
   "execution_count": 2,
   "metadata": {},
   "outputs": [
    {
     "name": "stdout",
     "output_type": "stream",
     "text": [
      "root\n",
      " |-- Rank: integer (nullable = true)\n",
      " |-- Platform: string (nullable = true)\n",
      " |-- Year: integer (nullable = true)\n",
      " |-- Genre: string (nullable = true)\n",
      " |-- Publisher: string (nullable = true)\n",
      " |-- Name: string (nullable = true)\n",
      " |-- NA_Sales: double (nullable = true)\n",
      " |-- EU_Sales: double (nullable = true)\n",
      " |-- JP_Sales: double (nullable = true)\n",
      " |-- Other_Sales: double (nullable = true)\n",
      " |-- Global_Sales: double (nullable = true)\n",
      " |-- Bin_Global_Sales: double (nullable = true)\n",
      "\n"
     ]
    }
   ],
   "source": [
    "Total_Clean_data = spark.read.csv('Total_Clean_data.csv', inferSchema=True, header=True)\n",
    "Total_Clean_data.printSchema()"
   ]
  },
  {
   "cell_type": "code",
   "execution_count": 12,
   "metadata": {},
   "outputs": [
    {
     "name": "stdout",
     "output_type": "stream",
     "text": [
      "<class 'pandas.core.frame.DataFrame'>\n",
      "RangeIndex: 16285 entries, 0 to 16284\n",
      "Data columns (total 12 columns):\n",
      "Rank                16285 non-null int64\n",
      "Platform            16285 non-null object\n",
      "Year                16285 non-null int64\n",
      "Genre               16285 non-null object\n",
      "Publisher           16285 non-null object\n",
      "Name                16285 non-null object\n",
      "NA_Sales            16285 non-null float64\n",
      "EU_Sales            16285 non-null float64\n",
      "JP_Sales            16285 non-null float64\n",
      "Other_Sales         16285 non-null float64\n",
      "Global_Sales        16285 non-null float64\n",
      "Bin_Global_Sales    16285 non-null float64\n",
      "dtypes: float64(6), int64(2), object(4)\n",
      "memory usage: 1.5+ MB\n"
     ]
    }
   ],
   "source": [
    "Total_Clean_data.toPandas().info()"
   ]
  },
  {
   "cell_type": "code",
   "execution_count": 4,
   "metadata": {
    "scrolled": true
   },
   "outputs": [
    {
     "data": {
      "text/html": [
       "<div>\n",
       "<style scoped>\n",
       "    .dataframe tbody tr th:only-of-type {\n",
       "        vertical-align: middle;\n",
       "    }\n",
       "\n",
       "    .dataframe tbody tr th {\n",
       "        vertical-align: top;\n",
       "    }\n",
       "\n",
       "    .dataframe thead th {\n",
       "        text-align: right;\n",
       "    }\n",
       "</style>\n",
       "<table border=\"1\" class=\"dataframe\">\n",
       "  <thead>\n",
       "    <tr style=\"text-align: right;\">\n",
       "      <th></th>\n",
       "      <th>Rank</th>\n",
       "      <th>Platform</th>\n",
       "      <th>Year</th>\n",
       "      <th>Genre</th>\n",
       "      <th>Publisher</th>\n",
       "      <th>Name</th>\n",
       "      <th>NA_Sales</th>\n",
       "      <th>EU_Sales</th>\n",
       "      <th>JP_Sales</th>\n",
       "      <th>Other_Sales</th>\n",
       "      <th>Global_Sales</th>\n",
       "      <th>Bin_Global_Sales</th>\n",
       "    </tr>\n",
       "  </thead>\n",
       "  <tbody>\n",
       "    <tr>\n",
       "      <th>0</th>\n",
       "      <td>1</td>\n",
       "      <td>Wii</td>\n",
       "      <td>2006</td>\n",
       "      <td>Sports</td>\n",
       "      <td>Nintendo</td>\n",
       "      <td>Wii Sports</td>\n",
       "      <td>41.49</td>\n",
       "      <td>29.02</td>\n",
       "      <td>3.77</td>\n",
       "      <td>8.46</td>\n",
       "      <td>82.74</td>\n",
       "      <td>16.0</td>\n",
       "    </tr>\n",
       "    <tr>\n",
       "      <th>1</th>\n",
       "      <td>2</td>\n",
       "      <td>NES</td>\n",
       "      <td>1985</td>\n",
       "      <td>Platform</td>\n",
       "      <td>Nintendo</td>\n",
       "      <td>Super Mario Bros.</td>\n",
       "      <td>29.08</td>\n",
       "      <td>3.58</td>\n",
       "      <td>6.81</td>\n",
       "      <td>0.77</td>\n",
       "      <td>40.24</td>\n",
       "      <td>8.0</td>\n",
       "    </tr>\n",
       "    <tr>\n",
       "      <th>2</th>\n",
       "      <td>3</td>\n",
       "      <td>Wii</td>\n",
       "      <td>2008</td>\n",
       "      <td>Racing</td>\n",
       "      <td>Nintendo</td>\n",
       "      <td>Mario Kart Wii</td>\n",
       "      <td>15.85</td>\n",
       "      <td>12.88</td>\n",
       "      <td>3.79</td>\n",
       "      <td>3.31</td>\n",
       "      <td>35.82</td>\n",
       "      <td>7.0</td>\n",
       "    </tr>\n",
       "    <tr>\n",
       "      <th>3</th>\n",
       "      <td>4</td>\n",
       "      <td>Wii</td>\n",
       "      <td>2009</td>\n",
       "      <td>Sports</td>\n",
       "      <td>Nintendo</td>\n",
       "      <td>Wii Sports Resort</td>\n",
       "      <td>15.75</td>\n",
       "      <td>11.01</td>\n",
       "      <td>3.28</td>\n",
       "      <td>2.96</td>\n",
       "      <td>33.00</td>\n",
       "      <td>6.0</td>\n",
       "    </tr>\n",
       "    <tr>\n",
       "      <th>4</th>\n",
       "      <td>5</td>\n",
       "      <td>GB</td>\n",
       "      <td>1996</td>\n",
       "      <td>Role-Playing</td>\n",
       "      <td>Nintendo</td>\n",
       "      <td>Pokemon Red/Pokemon Blue</td>\n",
       "      <td>11.27</td>\n",
       "      <td>8.89</td>\n",
       "      <td>10.22</td>\n",
       "      <td>1.00</td>\n",
       "      <td>31.37</td>\n",
       "      <td>6.0</td>\n",
       "    </tr>\n",
       "    <tr>\n",
       "      <th>5</th>\n",
       "      <td>6</td>\n",
       "      <td>GB</td>\n",
       "      <td>1989</td>\n",
       "      <td>Puzzle</td>\n",
       "      <td>Nintendo</td>\n",
       "      <td>Tetris</td>\n",
       "      <td>23.20</td>\n",
       "      <td>2.26</td>\n",
       "      <td>4.22</td>\n",
       "      <td>0.58</td>\n",
       "      <td>30.26</td>\n",
       "      <td>6.0</td>\n",
       "    </tr>\n",
       "    <tr>\n",
       "      <th>6</th>\n",
       "      <td>7</td>\n",
       "      <td>DS</td>\n",
       "      <td>2006</td>\n",
       "      <td>Platform</td>\n",
       "      <td>Nintendo</td>\n",
       "      <td>New Super Mario Bros.</td>\n",
       "      <td>11.38</td>\n",
       "      <td>9.23</td>\n",
       "      <td>6.50</td>\n",
       "      <td>2.90</td>\n",
       "      <td>30.01</td>\n",
       "      <td>6.0</td>\n",
       "    </tr>\n",
       "    <tr>\n",
       "      <th>7</th>\n",
       "      <td>8</td>\n",
       "      <td>Wii</td>\n",
       "      <td>2006</td>\n",
       "      <td>Misc</td>\n",
       "      <td>Nintendo</td>\n",
       "      <td>Wii Play</td>\n",
       "      <td>14.03</td>\n",
       "      <td>9.20</td>\n",
       "      <td>2.93</td>\n",
       "      <td>2.85</td>\n",
       "      <td>29.02</td>\n",
       "      <td>5.0</td>\n",
       "    </tr>\n",
       "    <tr>\n",
       "      <th>8</th>\n",
       "      <td>9</td>\n",
       "      <td>Wii</td>\n",
       "      <td>2009</td>\n",
       "      <td>Platform</td>\n",
       "      <td>Nintendo</td>\n",
       "      <td>New Super Mario Bros. Wii</td>\n",
       "      <td>14.59</td>\n",
       "      <td>7.06</td>\n",
       "      <td>4.70</td>\n",
       "      <td>2.26</td>\n",
       "      <td>28.62</td>\n",
       "      <td>5.0</td>\n",
       "    </tr>\n",
       "    <tr>\n",
       "      <th>9</th>\n",
       "      <td>10</td>\n",
       "      <td>NES</td>\n",
       "      <td>1984</td>\n",
       "      <td>Shooter</td>\n",
       "      <td>Nintendo</td>\n",
       "      <td>Duck Hunt</td>\n",
       "      <td>26.93</td>\n",
       "      <td>0.63</td>\n",
       "      <td>0.28</td>\n",
       "      <td>0.47</td>\n",
       "      <td>28.31</td>\n",
       "      <td>5.0</td>\n",
       "    </tr>\n",
       "    <tr>\n",
       "      <th>10</th>\n",
       "      <td>11</td>\n",
       "      <td>DS</td>\n",
       "      <td>2005</td>\n",
       "      <td>Simulation</td>\n",
       "      <td>Nintendo</td>\n",
       "      <td>Nintendogs</td>\n",
       "      <td>9.07</td>\n",
       "      <td>11.00</td>\n",
       "      <td>1.93</td>\n",
       "      <td>2.75</td>\n",
       "      <td>24.76</td>\n",
       "      <td>4.0</td>\n",
       "    </tr>\n",
       "    <tr>\n",
       "      <th>11</th>\n",
       "      <td>12</td>\n",
       "      <td>DS</td>\n",
       "      <td>2005</td>\n",
       "      <td>Racing</td>\n",
       "      <td>Nintendo</td>\n",
       "      <td>Mario Kart DS</td>\n",
       "      <td>9.81</td>\n",
       "      <td>7.57</td>\n",
       "      <td>4.13</td>\n",
       "      <td>1.92</td>\n",
       "      <td>23.42</td>\n",
       "      <td>4.0</td>\n",
       "    </tr>\n",
       "    <tr>\n",
       "      <th>12</th>\n",
       "      <td>13</td>\n",
       "      <td>GB</td>\n",
       "      <td>1999</td>\n",
       "      <td>Role-Playing</td>\n",
       "      <td>Nintendo</td>\n",
       "      <td>Pokemon Gold/Pokemon Silver</td>\n",
       "      <td>9.00</td>\n",
       "      <td>6.18</td>\n",
       "      <td>7.20</td>\n",
       "      <td>0.71</td>\n",
       "      <td>23.10</td>\n",
       "      <td>4.0</td>\n",
       "    </tr>\n",
       "    <tr>\n",
       "      <th>13</th>\n",
       "      <td>14</td>\n",
       "      <td>Wii</td>\n",
       "      <td>2007</td>\n",
       "      <td>Sports</td>\n",
       "      <td>Nintendo</td>\n",
       "      <td>Wii Fit</td>\n",
       "      <td>8.94</td>\n",
       "      <td>8.03</td>\n",
       "      <td>3.60</td>\n",
       "      <td>2.15</td>\n",
       "      <td>22.72</td>\n",
       "      <td>4.0</td>\n",
       "    </tr>\n",
       "    <tr>\n",
       "      <th>14</th>\n",
       "      <td>15</td>\n",
       "      <td>Wii</td>\n",
       "      <td>2009</td>\n",
       "      <td>Sports</td>\n",
       "      <td>Nintendo</td>\n",
       "      <td>Wii Fit Plus</td>\n",
       "      <td>9.09</td>\n",
       "      <td>8.59</td>\n",
       "      <td>2.53</td>\n",
       "      <td>1.79</td>\n",
       "      <td>22.00</td>\n",
       "      <td>4.0</td>\n",
       "    </tr>\n",
       "  </tbody>\n",
       "</table>\n",
       "</div>"
      ],
      "text/plain": [
       "    Rank Platform  Year         Genre Publisher                         Name  \\\n",
       "0      1      Wii  2006        Sports  Nintendo                   Wii Sports   \n",
       "1      2      NES  1985      Platform  Nintendo            Super Mario Bros.   \n",
       "2      3      Wii  2008        Racing  Nintendo               Mario Kart Wii   \n",
       "3      4      Wii  2009        Sports  Nintendo            Wii Sports Resort   \n",
       "4      5       GB  1996  Role-Playing  Nintendo     Pokemon Red/Pokemon Blue   \n",
       "5      6       GB  1989        Puzzle  Nintendo                       Tetris   \n",
       "6      7       DS  2006      Platform  Nintendo        New Super Mario Bros.   \n",
       "7      8      Wii  2006          Misc  Nintendo                     Wii Play   \n",
       "8      9      Wii  2009      Platform  Nintendo    New Super Mario Bros. Wii   \n",
       "9     10      NES  1984       Shooter  Nintendo                    Duck Hunt   \n",
       "10    11       DS  2005    Simulation  Nintendo                   Nintendogs   \n",
       "11    12       DS  2005        Racing  Nintendo                Mario Kart DS   \n",
       "12    13       GB  1999  Role-Playing  Nintendo  Pokemon Gold/Pokemon Silver   \n",
       "13    14      Wii  2007        Sports  Nintendo                      Wii Fit   \n",
       "14    15      Wii  2009        Sports  Nintendo                 Wii Fit Plus   \n",
       "\n",
       "    NA_Sales  EU_Sales  JP_Sales  Other_Sales  Global_Sales  Bin_Global_Sales  \n",
       "0      41.49     29.02      3.77         8.46         82.74              16.0  \n",
       "1      29.08      3.58      6.81         0.77         40.24               8.0  \n",
       "2      15.85     12.88      3.79         3.31         35.82               7.0  \n",
       "3      15.75     11.01      3.28         2.96         33.00               6.0  \n",
       "4      11.27      8.89     10.22         1.00         31.37               6.0  \n",
       "5      23.20      2.26      4.22         0.58         30.26               6.0  \n",
       "6      11.38      9.23      6.50         2.90         30.01               6.0  \n",
       "7      14.03      9.20      2.93         2.85         29.02               5.0  \n",
       "8      14.59      7.06      4.70         2.26         28.62               5.0  \n",
       "9      26.93      0.63      0.28         0.47         28.31               5.0  \n",
       "10      9.07     11.00      1.93         2.75         24.76               4.0  \n",
       "11      9.81      7.57      4.13         1.92         23.42               4.0  \n",
       "12      9.00      6.18      7.20         0.71         23.10               4.0  \n",
       "13      8.94      8.03      3.60         2.15         22.72               4.0  \n",
       "14      9.09      8.59      2.53         1.79         22.00               4.0  "
      ]
     },
     "execution_count": 4,
     "metadata": {},
     "output_type": "execute_result"
    }
   ],
   "source": [
    "Total_Clean_data.toPandas().head(15)"
   ]
  },
  {
   "cell_type": "code",
   "execution_count": 16,
   "metadata": {},
   "outputs": [],
   "source": [
    "Total_Clean_data = Total_Clean_data.toPandas()"
   ]
  },
  {
   "cell_type": "code",
   "execution_count": 14,
   "metadata": {},
   "outputs": [],
   "source": [
    "Total_Clean_data = spark.createDataFrame(Total_Clean_data)"
   ]
  },
  {
   "cell_type": "code",
   "execution_count": 5,
   "metadata": {},
   "outputs": [],
   "source": [
    "import matplotlib.pyplot as plt\n",
    "import numpy as np\n",
    "import pandas as pd\n",
    "import seaborn as sns"
   ]
  },
  {
   "cell_type": "code",
   "execution_count": 18,
   "metadata": {},
   "outputs": [
    {
     "data": {
      "text/plain": [
       "<matplotlib.axes._subplots.AxesSubplot at 0x7f6ae0662a90>"
      ]
     },
     "execution_count": 18,
     "metadata": {},
     "output_type": "execute_result"
    },
    {
     "data": {
      "image/png": "[encoded data removed]",
      "text/plain": [
       "<Figure size 1152x720 with 2 Axes>"
      ]
     },
     "metadata": {},
     "output_type": "display_data"
    }
   ],
   "source": [
    "fig = plt.figure(figsize = (16,10))\n",
    "sns.heatmap(Total_Clean_data.corr(),annot = True,cmap = \"Blues\")"
   ]
  },
  {
   "cell_type": "code",
   "execution_count": 4,
   "metadata": {},
   "outputs": [
    {
     "name": "stdout",
     "output_type": "stream",
     "text": [
      "+------------+--------------------+\n",
      "|Global_Sales|                Name|\n",
      "+------------+--------------------+\n",
      "|       82.74|          Wii Sports|\n",
      "|       40.24|   Super Mario Bros.|\n",
      "|       35.82|      Mario Kart Wii|\n",
      "|        33.0|   Wii Sports Resort|\n",
      "|       31.37|Pokemon Red/Pokem...|\n",
      "|       30.26|              Tetris|\n",
      "|       30.01|New Super Mario B...|\n",
      "|       29.02|            Wii Play|\n",
      "|       28.62|New Super Mario B...|\n",
      "|       28.31|           Duck Hunt|\n",
      "|       24.76|          Nintendogs|\n",
      "|       23.42|       Mario Kart DS|\n",
      "|        23.1|Pokemon Gold/Poke...|\n",
      "|       22.72|             Wii Fit|\n",
      "|        22.0|        Wii Fit Plus|\n",
      "|       21.82|  Kinect Adventures!|\n",
      "|        21.4|  Grand Theft Auto V|\n",
      "|       20.81|Grand Theft Auto:...|\n",
      "|       20.61|   Super Mario World|\n",
      "|       20.22|Brain Age: Train ...|\n",
      "+------------+--------------------+\n",
      "only showing top 20 rows\n",
      "\n"
     ]
    }
   ],
   "source": [
    "Total_Clean_data.select(\"Global_Sales\", \"Name\").show(20)"
   ]
  },
  {
   "cell_type": "code",
   "execution_count": 20,
   "metadata": {},
   "outputs": [
    {
     "name": "stdout",
     "output_type": "stream",
     "text": [
      "+----+---------+------------------+------------------+\n",
      "|Year|sum(Year)| sum(Global_Sales)|     sum(NA_Sales)|\n",
      "+----+---------+------------------+------------------+\n",
      "|1990|    31840| 49.38999999999999|             25.46|\n",
      "|2003|  1552325| 357.8499999999989|193.59000000000066|\n",
      "|2007|  2408400| 609.8399999999934| 311.1799999999983|\n",
      "|2015|  1237210|264.43999999999795|102.81999999999992|\n",
      "|2006|  2022048| 521.0399999999917|263.11999999999887|\n",
      "|2013|  1099098|368.10999999999865| 154.7700000000001|\n",
      "|1988|    29820|             47.22|23.869999999999997|\n",
      "|1997|   577133|200.98000000000013| 94.75000000000007|\n",
      "|1994|   241274| 79.17000000000003|28.150000000000002|\n",
      "|2014|  1168120| 337.0299999999985| 131.9700000000002|\n",
      "|2004|  1490976| 414.0099999999987|218.80000000000032|\n",
      "|1991|    81631|32.230000000000004|             12.76|\n",
      "|1982|    71352|28.859999999999996|26.920000000000005|\n",
      "|1996|   524948|199.14999999999995| 86.75999999999999|\n",
      "|1989|    33813|             73.45|             45.15|\n",
      "|1998|   757242|256.46999999999963|128.35999999999999|\n",
      "|1985|    27790|53.940000000000005|             33.73|\n",
      "|2012|  1317860| 363.4899999999984|154.93000000000004|\n",
      "|1987|    31792|21.739999999999995| 8.460000000000003|\n",
      "|2009|  2874879| 667.2999999999947| 338.8499999999989|\n",
      "+----+---------+------------------+------------------+\n",
      "only showing top 20 rows\n",
      "\n"
     ]
    }
   ],
   "source": [
    "Total_Clean_data.select(\"Year\",\"Global_Sales\",\"NA_Sales\").groupby(\"Year\").sum().show()"
   ]
  },
  {
   "cell_type": "code",
   "execution_count": 48,
   "metadata": {},
   "outputs": [
    {
     "name": "stdout",
     "output_type": "stream",
     "text": [
      "+----+--------------+----------+----------+----------+-------------+\n",
      "|Year|TT_GlobalSales|TT_NASales|TT_JPSales|TT_EUSales|TT_OtherSales|\n",
      "+----+--------------+----------+----------+----------+-------------+\n",
      "|1980|         11.38|     10.59|       0.0|      0.67|         0.12|\n",
      "|1981|         35.77|      33.4|       0.0|      1.96|         0.32|\n",
      "|1982|         28.86|     26.92|       0.0|      1.65|         0.31|\n",
      "|1983|         16.79|      7.76|       8.1|       0.8|         0.14|\n",
      "|1984|         50.36|     33.28|     14.27|       2.1|          0.7|\n",
      "|1985|         53.94|     33.73|     14.56|      4.74|         0.92|\n",
      "|1986|         37.07|      12.5|     19.81|      2.84|         1.93|\n",
      "|1987|         21.74|      8.46|     11.63|      1.41|          0.2|\n",
      "|1988|         47.22|     23.87|     15.76|      6.59|         0.99|\n",
      "|1989|         73.45|     45.15|     18.36|      8.44|          1.5|\n",
      "|1990|         49.39|     25.46|     14.88|      7.63|          1.4|\n",
      "|1991|         32.23|     12.76|     14.78|      3.95|         0.74|\n",
      "|1992|         76.16|     33.87|     28.91|     11.71|         1.65|\n",
      "|1993|         45.98|     15.12|     25.33|      4.65|         0.89|\n",
      "|1994|         79.17|     28.15|     33.99|     14.88|          2.2|\n",
      "|1995|         88.11|     24.82|     45.75|      14.9|         2.64|\n",
      "|1996|        199.15|     86.76|     57.44|     47.26|         7.69|\n",
      "|1997|        200.98|     94.75|     48.87|     48.32|         9.13|\n",
      "|1998|        256.47|    128.36|     50.04|      66.9|        11.03|\n",
      "|1999|        251.27|    126.06|     52.34|     62.67|        10.05|\n",
      "|2000|        201.56|     94.49|     42.77|     52.75|        11.62|\n",
      "|2001|        331.47|    173.98|     39.86|     94.89|        22.76|\n",
      "|2002|        395.52|    216.19|     41.76|    109.74|        27.28|\n",
      "|2003|        357.85|    193.59|      34.2|    103.81|        26.01|\n",
      "|2004|        414.01|     218.8|     41.65|    105.92|        47.24|\n",
      "|2005|        458.51|    241.58|     54.28|    121.56|        40.55|\n",
      "|2006|        521.04|    263.12|     73.73|    129.24|        54.43|\n",
      "|2007|        609.84|    311.18|     60.21|    160.18|        77.58|\n",
      "|2008|         678.9|    351.44|     60.26|     184.4|        82.39|\n",
      "|2009|         667.3|    338.85|     61.89|    191.59|        74.77|\n",
      "|2010|        600.25|    304.24|     59.45|    176.57|         59.9|\n",
      "|2011|         515.8|     241.0|     53.04|    167.31|        54.39|\n",
      "|2012|        363.49|    154.93|     51.74|    118.76|        37.82|\n",
      "|2013|        368.11|    154.77|     47.59|     125.8|        39.82|\n",
      "|2014|        337.03|    131.97|     39.46|    125.63|        40.02|\n",
      "|2015|        264.44|    102.82|     33.72|     97.71|        30.01|\n",
      "|2016|          70.9|     22.66|     13.67|     26.76|         7.75|\n",
      "+----+--------------+----------+----------+----------+-------------+\n",
      "\n"
     ]
    }
   ],
   "source": [
    "Total_Clean_data.registerTempTable('Total_Clean_data')\n",
    "spark.sql(\"SELECT Year, ROUND(SUM(Global_Sales),2) AS TT_GlobalSales,\\\n",
    "                        ROUND(SUM(NA_Sales),2) AS TT_NASales,\\\n",
    "                        ROUND(SUM(JP_Sales),2) AS TT_JPSales,\\\n",
    "                        ROUND(SUM(EU_Sales),2) AS TT_EUSales,\\\n",
    "                        ROUND(SUM(Other_Sales),2) AS TT_OtherSales\\\n",
    "                        FROM Total_Clean_data Group by Year Order by Year\").show(50)"
   ]
  },
  {
   "cell_type": "code",
   "execution_count": 3,
   "metadata": {},
   "outputs": [],
   "source": [
    "Total_Clean_data = Total_Clean_data.toPandas()"
   ]
  },
  {
   "cell_type": "code",
   "execution_count": 6,
   "metadata": {},
   "outputs": [
    {
     "data": {
      "text/plain": [
       "Text(0,0.5,'/million')"
      ]
     },
     "execution_count": 6,
     "metadata": {},
     "output_type": "execute_result"
    },
    {
     "data": {
      "image/png": "[encoded data removed]",
      "text/plain": [
       "<Figure size 720x360 with 1 Axes>"
      ]
     },
     "metadata": {},
     "output_type": "display_data"
    }
   ],
   "source": [
    "Total_Clean_data.pivot_table(index ='Year',\\\n",
    "                             values=['NA_Sales','EU_Sales','JP_Sales','Other_Sales'],\\\n",
    "                             aggfunc='sum')\\\n",
    "                            .plot(figsize=(10,5))\n",
    "plt.grid()\n",
    "plt.ylabel('/million')"
   ]
  },
  {
   "cell_type": "code",
   "execution_count": null,
   "metadata": {},
   "outputs": [],
   "source": []
  }
 ],
 "metadata": {
  "kernelspec": {
   "display_name": "Python 3",
   "language": "python",
   "name": "python3"
  },
  "language_info": {
   "codemirror_mode": {
    "name": "ipython",
    "version": 3
   },
   "file_extension": ".py",
   "mimetype": "text/x-python",
   "name": "python",
   "nbconvert_exporter": "python",
   "pygments_lexer": "ipython3",
   "version": "3.5.2"
  }
 },
 "nbformat": 4,
 "nbformat_minor": 2
}
